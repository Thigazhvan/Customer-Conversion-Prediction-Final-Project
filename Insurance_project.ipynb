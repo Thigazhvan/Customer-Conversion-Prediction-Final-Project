{
 "cells": [
  {
   "cell_type": "markdown",
   "metadata": {},
   "source": [
    "## Customer Conversion Prediction Project"
   ]
  },
  {
   "cell_type": "markdown",
   "metadata": {},
   "source": [
    "### Problem statement:\n",
    "You are working for a new-age insurance company and employ mutiple outreach plans to sell term insurance to your customers. Telephonic marketing campaigns still remain one of the most effective way to reach out to people however they incur a lot of cost. Hence, it is important to identify the customers that are most likely to convert beforehand so that they can be specifically targeted via call. We are given the historical marketing data of the insurance company and are required to build a ML model that will predict if a client will subscribe to the insurance."
   ]
  },
  {
   "cell_type": "markdown",
   "metadata": {},
   "source": [
    "### Feature and Target variable Description:\n",
    "\n",
    "1.age (numeric)\n",
    "\n",
    "2.job : type of job\n",
    "\n",
    "3.marital : marital status\n",
    "\n",
    "4.educational_qual : education status\n",
    "\n",
    "5.call_type : contact communication type\n",
    "\n",
    "6.day: last contact day of the month (numeric)\n",
    "\n",
    "7.mon: last contact month of year\n",
    "\n",
    "8.dur: last contact duration, in seconds (numeric)\n",
    "\n",
    "9.num_calls: number of contacts performed during this campaign and for this client\n",
    "\n",
    "10.prev_outcome: outcome of the previous marketing campaign (categorical: \"unknown\",\"other\",\"failure\",\"success\")\n",
    "\n",
    "11.Output variable (desired target): y - has the client subscribed to the insurance?"
   ]
  },
  {
   "cell_type": "markdown",
   "metadata": {},
   "source": [
    "### Basic details about the Dataset"
   ]
  },
  {
   "cell_type": "markdown",
   "metadata": {},
   "source": [
    "-->Supervised Lesrning Problem\n",
    "-->Classification(based on Target Variable)\n",
    "\n",
    "-->From the Target variable we can consider it is a Binary classification problem, \n",
    "\n",
    "-->Here,we are required to build a ML model that will predict if a client will subscribe to the insurance."
   ]
  },
  {
   "cell_type": "markdown",
   "metadata": {},
   "source": [
    "importing the required Libraries"
   ]
  },
  {
   "cell_type": "code",
   "execution_count": 315,
   "metadata": {},
   "outputs": [],
   "source": [
    "import pandas as pd\n",
    "import numpy as np\n",
    "import matplotlib.pyplot as plt\n",
    "import seaborn as sns\n",
    "import warnings\n",
    "warnings.filterwarnings(\"ignore\")"
   ]
  },
  {
   "cell_type": "markdown",
   "metadata": {},
   "source": [
    "Loading the Dataset"
   ]
  },
  {
   "cell_type": "code",
   "execution_count": 399,
   "metadata": {},
   "outputs": [],
   "source": [
    "df=pd.read_csv(\"C:/Users/DELL-22/Desktop/Final Project/train.csv\")"
   ]
  },
  {
   "cell_type": "code",
   "execution_count": 400,
   "metadata": {},
   "outputs": [
    {
     "data": {
      "text/html": [
       "<div>\n",
       "<style scoped>\n",
       "    .dataframe tbody tr th:only-of-type {\n",
       "        vertical-align: middle;\n",
       "    }\n",
       "\n",
       "    .dataframe tbody tr th {\n",
       "        vertical-align: top;\n",
       "    }\n",
       "\n",
       "    .dataframe thead th {\n",
       "        text-align: right;\n",
       "    }\n",
       "</style>\n",
       "<table border=\"1\" class=\"dataframe\">\n",
       "  <thead>\n",
       "    <tr style=\"text-align: right;\">\n",
       "      <th></th>\n",
       "      <th>age</th>\n",
       "      <th>job</th>\n",
       "      <th>marital</th>\n",
       "      <th>education_qual</th>\n",
       "      <th>call_type</th>\n",
       "      <th>day</th>\n",
       "      <th>mon</th>\n",
       "      <th>dur</th>\n",
       "      <th>num_calls</th>\n",
       "      <th>prev_outcome</th>\n",
       "      <th>y</th>\n",
       "    </tr>\n",
       "  </thead>\n",
       "  <tbody>\n",
       "    <tr>\n",
       "      <th>0</th>\n",
       "      <td>58</td>\n",
       "      <td>management</td>\n",
       "      <td>married</td>\n",
       "      <td>tertiary</td>\n",
       "      <td>unknown</td>\n",
       "      <td>5</td>\n",
       "      <td>may</td>\n",
       "      <td>261</td>\n",
       "      <td>1</td>\n",
       "      <td>unknown</td>\n",
       "      <td>no</td>\n",
       "    </tr>\n",
       "    <tr>\n",
       "      <th>1</th>\n",
       "      <td>44</td>\n",
       "      <td>technician</td>\n",
       "      <td>single</td>\n",
       "      <td>secondary</td>\n",
       "      <td>unknown</td>\n",
       "      <td>5</td>\n",
       "      <td>may</td>\n",
       "      <td>151</td>\n",
       "      <td>1</td>\n",
       "      <td>unknown</td>\n",
       "      <td>no</td>\n",
       "    </tr>\n",
       "    <tr>\n",
       "      <th>2</th>\n",
       "      <td>33</td>\n",
       "      <td>entrepreneur</td>\n",
       "      <td>married</td>\n",
       "      <td>secondary</td>\n",
       "      <td>unknown</td>\n",
       "      <td>5</td>\n",
       "      <td>may</td>\n",
       "      <td>76</td>\n",
       "      <td>1</td>\n",
       "      <td>unknown</td>\n",
       "      <td>no</td>\n",
       "    </tr>\n",
       "    <tr>\n",
       "      <th>3</th>\n",
       "      <td>47</td>\n",
       "      <td>blue-collar</td>\n",
       "      <td>married</td>\n",
       "      <td>unknown</td>\n",
       "      <td>unknown</td>\n",
       "      <td>5</td>\n",
       "      <td>may</td>\n",
       "      <td>92</td>\n",
       "      <td>1</td>\n",
       "      <td>unknown</td>\n",
       "      <td>no</td>\n",
       "    </tr>\n",
       "    <tr>\n",
       "      <th>4</th>\n",
       "      <td>33</td>\n",
       "      <td>unknown</td>\n",
       "      <td>single</td>\n",
       "      <td>unknown</td>\n",
       "      <td>unknown</td>\n",
       "      <td>5</td>\n",
       "      <td>may</td>\n",
       "      <td>198</td>\n",
       "      <td>1</td>\n",
       "      <td>unknown</td>\n",
       "      <td>no</td>\n",
       "    </tr>\n",
       "  </tbody>\n",
       "</table>\n",
       "</div>"
      ],
      "text/plain": [
       "   age           job  marital education_qual call_type  day  mon  dur  \\\n",
       "0   58    management  married       tertiary   unknown    5  may  261   \n",
       "1   44    technician   single      secondary   unknown    5  may  151   \n",
       "2   33  entrepreneur  married      secondary   unknown    5  may   76   \n",
       "3   47   blue-collar  married        unknown   unknown    5  may   92   \n",
       "4   33       unknown   single        unknown   unknown    5  may  198   \n",
       "\n",
       "   num_calls prev_outcome   y  \n",
       "0          1      unknown  no  \n",
       "1          1      unknown  no  \n",
       "2          1      unknown  no  \n",
       "3          1      unknown  no  \n",
       "4          1      unknown  no  "
      ]
     },
     "execution_count": 400,
     "metadata": {},
     "output_type": "execute_result"
    }
   ],
   "source": [
    "df.head(5)"
   ]
  },
  {
   "cell_type": "markdown",
   "metadata": {},
   "source": [
    "Changing column name"
   ]
  },
  {
   "cell_type": "code",
   "execution_count": 401,
   "metadata": {},
   "outputs": [],
   "source": [
    "df=df.rename(columns={\"y\":\"subscribe\"})"
   ]
  },
  {
   "cell_type": "markdown",
   "metadata": {},
   "source": [
    "Encode the Target variable for Pre-processing"
   ]
  },
  {
   "cell_type": "code",
   "execution_count": 402,
   "metadata": {},
   "outputs": [],
   "source": [
    "df[\"subscribe\"]=df[\"subscribe\"].map({\"yes\":1,\"no\":0})"
   ]
  },
  {
   "cell_type": "code",
   "execution_count": 403,
   "metadata": {},
   "outputs": [
    {
     "data": {
      "text/html": [
       "<div>\n",
       "<style scoped>\n",
       "    .dataframe tbody tr th:only-of-type {\n",
       "        vertical-align: middle;\n",
       "    }\n",
       "\n",
       "    .dataframe tbody tr th {\n",
       "        vertical-align: top;\n",
       "    }\n",
       "\n",
       "    .dataframe thead th {\n",
       "        text-align: right;\n",
       "    }\n",
       "</style>\n",
       "<table border=\"1\" class=\"dataframe\">\n",
       "  <thead>\n",
       "    <tr style=\"text-align: right;\">\n",
       "      <th></th>\n",
       "      <th>age</th>\n",
       "      <th>job</th>\n",
       "      <th>marital</th>\n",
       "      <th>education_qual</th>\n",
       "      <th>call_type</th>\n",
       "      <th>day</th>\n",
       "      <th>mon</th>\n",
       "      <th>dur</th>\n",
       "      <th>num_calls</th>\n",
       "      <th>prev_outcome</th>\n",
       "      <th>subscribe</th>\n",
       "    </tr>\n",
       "  </thead>\n",
       "  <tbody>\n",
       "    <tr>\n",
       "      <th>0</th>\n",
       "      <td>58</td>\n",
       "      <td>management</td>\n",
       "      <td>married</td>\n",
       "      <td>tertiary</td>\n",
       "      <td>unknown</td>\n",
       "      <td>5</td>\n",
       "      <td>may</td>\n",
       "      <td>261</td>\n",
       "      <td>1</td>\n",
       "      <td>unknown</td>\n",
       "      <td>0</td>\n",
       "    </tr>\n",
       "    <tr>\n",
       "      <th>1</th>\n",
       "      <td>44</td>\n",
       "      <td>technician</td>\n",
       "      <td>single</td>\n",
       "      <td>secondary</td>\n",
       "      <td>unknown</td>\n",
       "      <td>5</td>\n",
       "      <td>may</td>\n",
       "      <td>151</td>\n",
       "      <td>1</td>\n",
       "      <td>unknown</td>\n",
       "      <td>0</td>\n",
       "    </tr>\n",
       "    <tr>\n",
       "      <th>2</th>\n",
       "      <td>33</td>\n",
       "      <td>entrepreneur</td>\n",
       "      <td>married</td>\n",
       "      <td>secondary</td>\n",
       "      <td>unknown</td>\n",
       "      <td>5</td>\n",
       "      <td>may</td>\n",
       "      <td>76</td>\n",
       "      <td>1</td>\n",
       "      <td>unknown</td>\n",
       "      <td>0</td>\n",
       "    </tr>\n",
       "    <tr>\n",
       "      <th>3</th>\n",
       "      <td>47</td>\n",
       "      <td>blue-collar</td>\n",
       "      <td>married</td>\n",
       "      <td>unknown</td>\n",
       "      <td>unknown</td>\n",
       "      <td>5</td>\n",
       "      <td>may</td>\n",
       "      <td>92</td>\n",
       "      <td>1</td>\n",
       "      <td>unknown</td>\n",
       "      <td>0</td>\n",
       "    </tr>\n",
       "    <tr>\n",
       "      <th>4</th>\n",
       "      <td>33</td>\n",
       "      <td>unknown</td>\n",
       "      <td>single</td>\n",
       "      <td>unknown</td>\n",
       "      <td>unknown</td>\n",
       "      <td>5</td>\n",
       "      <td>may</td>\n",
       "      <td>198</td>\n",
       "      <td>1</td>\n",
       "      <td>unknown</td>\n",
       "      <td>0</td>\n",
       "    </tr>\n",
       "  </tbody>\n",
       "</table>\n",
       "</div>"
      ],
      "text/plain": [
       "   age           job  marital education_qual call_type  day  mon  dur  \\\n",
       "0   58    management  married       tertiary   unknown    5  may  261   \n",
       "1   44    technician   single      secondary   unknown    5  may  151   \n",
       "2   33  entrepreneur  married      secondary   unknown    5  may   76   \n",
       "3   47   blue-collar  married        unknown   unknown    5  may   92   \n",
       "4   33       unknown   single        unknown   unknown    5  may  198   \n",
       "\n",
       "   num_calls prev_outcome  subscribe  \n",
       "0          1      unknown          0  \n",
       "1          1      unknown          0  \n",
       "2          1      unknown          0  \n",
       "3          1      unknown          0  \n",
       "4          1      unknown          0  "
      ]
     },
     "execution_count": 403,
     "metadata": {},
     "output_type": "execute_result"
    }
   ],
   "source": [
    "df.head(5)"
   ]
  },
  {
   "cell_type": "markdown",
   "metadata": {},
   "source": [
    "### Data Preprocessing"
   ]
  },
  {
   "cell_type": "code",
   "execution_count": 321,
   "metadata": {},
   "outputs": [],
   "source": [
    "#Missing Value - no\n",
    "#Duplictes     - yes,it is corrected by droping the duplictaes\n",
    "#unstructured data- no,data is in structured format\n",
    "#incorrect format - no,datas are in corrected format\n",
    "#outlier correction - corrected (by clipping)"
   ]
  },
  {
   "cell_type": "markdown",
   "metadata": {},
   "source": [
    "Checking Missing Values in the data"
   ]
  },
  {
   "cell_type": "code",
   "execution_count": 404,
   "metadata": {},
   "outputs": [
    {
     "data": {
      "text/plain": [
       "age               0\n",
       "job               0\n",
       "marital           0\n",
       "education_qual    0\n",
       "call_type         0\n",
       "day               0\n",
       "mon               0\n",
       "dur               0\n",
       "num_calls         0\n",
       "prev_outcome      0\n",
       "subscribe         0\n",
       "dtype: int64"
      ]
     },
     "execution_count": 404,
     "metadata": {},
     "output_type": "execute_result"
    }
   ],
   "source": [
    "df.isna().sum()"
   ]
  },
  {
   "cell_type": "code",
   "execution_count": 405,
   "metadata": {},
   "outputs": [
    {
     "data": {
      "text/plain": [
       "(45211, 11)"
      ]
     },
     "execution_count": 405,
     "metadata": {},
     "output_type": "execute_result"
    }
   ],
   "source": [
    "df.shape"
   ]
  },
  {
   "cell_type": "markdown",
   "metadata": {},
   "source": [
    "Checking the duplicates in the data"
   ]
  },
  {
   "cell_type": "code",
   "execution_count": 406,
   "metadata": {},
   "outputs": [
    {
     "data": {
      "text/plain": [
       "6"
      ]
     },
     "execution_count": 406,
     "metadata": {},
     "output_type": "execute_result"
    }
   ],
   "source": [
    "df.duplicated().sum()"
   ]
  },
  {
   "cell_type": "markdown",
   "metadata": {},
   "source": [
    "#### There is Duplicates in the data,to get the perfect prediction we drop the duplicates in the data "
   ]
  },
  {
   "cell_type": "markdown",
   "metadata": {},
   "source": [
    "droping duplicates in the Data"
   ]
  },
  {
   "cell_type": "code",
   "execution_count": 407,
   "metadata": {},
   "outputs": [],
   "source": [
    "df = df.drop_duplicates()"
   ]
  },
  {
   "cell_type": "code",
   "execution_count": 408,
   "metadata": {},
   "outputs": [
    {
     "data": {
      "text/plain": [
       "0"
      ]
     },
     "execution_count": 408,
     "metadata": {},
     "output_type": "execute_result"
    }
   ],
   "source": [
    "df.duplicated().sum()"
   ]
  },
  {
   "cell_type": "code",
   "execution_count": 409,
   "metadata": {},
   "outputs": [
    {
     "data": {
      "text/plain": [
       "(45205, 11)"
      ]
     },
     "execution_count": 409,
     "metadata": {},
     "output_type": "execute_result"
    }
   ],
   "source": [
    "df.shape"
   ]
  },
  {
   "cell_type": "markdown",
   "metadata": {},
   "source": [
    "Checking the datatypes in the data"
   ]
  },
  {
   "cell_type": "code",
   "execution_count": 410,
   "metadata": {},
   "outputs": [
    {
     "data": {
      "text/plain": [
       "age                int64\n",
       "job               object\n",
       "marital           object\n",
       "education_qual    object\n",
       "call_type         object\n",
       "day                int64\n",
       "mon               object\n",
       "dur                int64\n",
       "num_calls          int64\n",
       "prev_outcome      object\n",
       "subscribe          int64\n",
       "dtype: object"
      ]
     },
     "execution_count": 410,
     "metadata": {},
     "output_type": "execute_result"
    }
   ],
   "source": [
    "df.dtypes"
   ]
  },
  {
   "cell_type": "markdown",
   "metadata": {},
   "source": [
    "#### Outlier correction"
   ]
  },
  {
   "cell_type": "code",
   "execution_count": 411,
   "metadata": {},
   "outputs": [],
   "source": [
    "for col in [\"age\",\"day\",\"dur\",\"num_calls\"]:\n",
    "    iqr=df[col].quantile(0.75)-df[col].quantile(0.25)\n",
    "    upper_threshold=df[col].quantile(0.75) + (1.5*iqr)\n",
    "    lower_threshold=df[col].quantile(0.25) - (1.5*iqr)\n",
    "    df[col]=df[col].clip(lower_threshold,upper_threshold)"
   ]
  },
  {
   "cell_type": "markdown",
   "metadata": {},
   "source": [
    "#### The outliers are corrected by clipping the upper_thresold,lower_threshold in the data"
   ]
  },
  {
   "cell_type": "markdown",
   "metadata": {},
   "source": [
    "## EDA and Encode"
   ]
  },
  {
   "cell_type": "markdown",
   "metadata": {},
   "source": [
    "### Age"
   ]
  },
  {
   "cell_type": "code",
   "execution_count": 412,
   "metadata": {},
   "outputs": [
    {
     "name": "stdout",
     "output_type": "stream",
     "text": [
      "subscribe\n",
      "0    40.797362\n",
      "1    41.410096\n",
      "Name: age, dtype: float64\n"
     ]
    },
    {
     "data": {
      "text/plain": [
       "<Axes: xlabel='subscribe'>"
      ]
     },
     "execution_count": 412,
     "metadata": {},
     "output_type": "execute_result"
    },
    {
     "data": {
      "image/png": "[encoded data removed]",
      "text/plain": [
       "<Figure size 640x480 with 1 Axes>"
      ]
     },
     "metadata": {},
     "output_type": "display_data"
    }
   ],
   "source": [
    "print(df.groupby(\"subscribe\")[\"age\"].mean())\n",
    "df.groupby(\"subscribe\")[\"age\"].mean().plot()"
   ]
  },
  {
   "cell_type": "markdown",
   "metadata": {},
   "source": [
    "#### 1.The above graph represented that there is a strong relationship between the the Feature variable(age) and Target variable(Subscribe),so,we retain this Feature column to predict the ML Algorithm.\n",
    "\n",
    "#### 2.Based on analysis of age between(40 to 41) are the majority people can have the possibilities to subscribe more for the Insurance\n"
   ]
  },
  {
   "cell_type": "markdown",
   "metadata": {},
   "source": [
    "### Job"
   ]
  },
  {
   "cell_type": "code",
   "execution_count": 413,
   "metadata": {},
   "outputs": [
    {
     "data": {
      "text/plain": [
       "array(['management', 'technician', 'entrepreneur', 'blue-collar',\n",
       "       'unknown', 'retired', 'admin.', 'services', 'self-employed',\n",
       "       'unemployed', 'housemaid', 'student'], dtype=object)"
      ]
     },
     "execution_count": 413,
     "metadata": {},
     "output_type": "execute_result"
    }
   ],
   "source": [
    "df.job.unique()"
   ]
  },
  {
   "cell_type": "code",
   "execution_count": 414,
   "metadata": {},
   "outputs": [
    {
     "data": {
      "text/plain": [
       "job\n",
       "blue-collar      9730\n",
       "management       9457\n",
       "technician       7596\n",
       "admin.           5170\n",
       "services         4153\n",
       "retired          2264\n",
       "self-employed    1579\n",
       "entrepreneur     1487\n",
       "unemployed       1303\n",
       "housemaid        1240\n",
       "student           938\n",
       "unknown           288\n",
       "Name: count, dtype: int64"
      ]
     },
     "execution_count": 414,
     "metadata": {},
     "output_type": "execute_result"
    }
   ],
   "source": [
    "df.job.value_counts()"
   ]
  },
  {
   "cell_type": "code",
   "execution_count": 415,
   "metadata": {},
   "outputs": [
    {
     "data": {
      "text/plain": [
       "0.6370976661873686"
      ]
     },
     "execution_count": 415,
     "metadata": {},
     "output_type": "execute_result"
    }
   ],
   "source": [
    "#Handling unknown in job column\n",
    "pert_of_unknow = (288/45205)\n",
    "pert_of_unknow*100"
   ]
  },
  {
   "cell_type": "markdown",
   "metadata": {},
   "source": [
    "#### 0.63% of unknown data values cannot affect the prediction,so,we drop that row in the job column,considering that as a nan value"
   ]
  },
  {
   "cell_type": "code",
   "execution_count": 416,
   "metadata": {},
   "outputs": [],
   "source": [
    "df[\"job\"]=df[\"job\"].replace(\"unknown\",np.nan)"
   ]
  },
  {
   "cell_type": "code",
   "execution_count": 417,
   "metadata": {},
   "outputs": [
    {
     "data": {
      "text/plain": [
       "288"
      ]
     },
     "execution_count": 417,
     "metadata": {},
     "output_type": "execute_result"
    }
   ],
   "source": [
    "df.job.isna().sum()"
   ]
  },
  {
   "cell_type": "code",
   "execution_count": 418,
   "metadata": {},
   "outputs": [],
   "source": [
    "df=df.dropna(subset=\"job\")"
   ]
  },
  {
   "cell_type": "code",
   "execution_count": 419,
   "metadata": {},
   "outputs": [
    {
     "data": {
      "text/plain": [
       "0"
      ]
     },
     "execution_count": 419,
     "metadata": {},
     "output_type": "execute_result"
    }
   ],
   "source": [
    "df.job.isna().sum()"
   ]
  },
  {
   "cell_type": "code",
   "execution_count": 420,
   "metadata": {},
   "outputs": [
    {
     "name": "stdout",
     "output_type": "stream",
     "text": [
      "job\n",
      "blue-collar      0.072765\n",
      "entrepreneur     0.082717\n",
      "housemaid        0.087903\n",
      "services         0.088851\n",
      "technician       0.110585\n",
      "self-employed    0.118429\n",
      "admin.           0.122050\n",
      "management       0.137570\n",
      "unemployed       0.155027\n",
      "retired          0.227915\n",
      "student          0.286780\n",
      "Name: subscribe, dtype: float64\n"
     ]
    },
    {
     "data": {
      "text/plain": [
       "<Axes: xlabel='job'>"
      ]
     },
     "execution_count": 420,
     "metadata": {},
     "output_type": "execute_result"
    },
    {
     "data": {
      "image/png": "[encoded data removed]",
      "text/plain": [
       "<Figure size 640x480 with 1 Axes>"
      ]
     },
     "metadata": {},
     "output_type": "display_data"
    }
   ],
   "source": [
    "print(df.groupby(\"job\")[\"subscribe\"].mean().sort_values())\n",
    "#compared with subscribe vs Job\n",
    "df.groupby('job')['subscribe'].mean().sort_values().plot()"
   ]
  },
  {
   "cell_type": "markdown",
   "metadata": {},
   "source": [
    "#### The above graph represented that there is a strong relationship between the the Feature variable(job) and Target variable(Subscribe),so,we retain this Feature column to predict the ML Algorithm.\n",
    "\n",
    "#### 2.Based on analysis of job column blue-collar are the majority people in the data,but,the percentage of probability to subscribe more for the Insurance is students"
   ]
  },
  {
   "cell_type": "code",
   "execution_count": 422,
   "metadata": {},
   "outputs": [],
   "source": [
    "df[\"job\"]=df[\"job\"].map({'student':11, 'retired':10, 'unemployed':9, 'management':8,'admin.':7,'self-employed':6, 'technician':5, 'services':4,\n",
    "       'housemaid':3, 'entrepreneur':2,'blue-collar':1})"
   ]
  },
  {
   "cell_type": "markdown",
   "metadata": {},
   "source": [
    "### Marital status"
   ]
  },
  {
   "cell_type": "code",
   "execution_count": 340,
   "metadata": {},
   "outputs": [
    {
     "data": {
      "text/plain": [
       "array(['married', 'single', 'divorced'], dtype=object)"
      ]
     },
     "execution_count": 340,
     "metadata": {},
     "output_type": "execute_result"
    }
   ],
   "source": [
    "df.marital.unique()"
   ]
  },
  {
   "cell_type": "code",
   "execution_count": 341,
   "metadata": {},
   "outputs": [
    {
     "data": {
      "text/plain": [
       "marital\n",
       "married     27007\n",
       "single      12720\n",
       "divorced     5190\n",
       "Name: count, dtype: int64"
      ]
     },
     "execution_count": 341,
     "metadata": {},
     "output_type": "execute_result"
    }
   ],
   "source": [
    "df.marital.value_counts()"
   ]
  },
  {
   "cell_type": "code",
   "execution_count": 342,
   "metadata": {},
   "outputs": [
    {
     "name": "stdout",
     "output_type": "stream",
     "text": [
      "marital\n",
      "divorced    0.119653\n",
      "married     0.101233\n",
      "single      0.149371\n",
      "Name: subscribe, dtype: float64\n"
     ]
    },
    {
     "data": {
      "text/plain": [
       "<Axes: xlabel='marital'>"
      ]
     },
     "execution_count": 342,
     "metadata": {},
     "output_type": "execute_result"
    },
    {
     "data": {
      "image/png": "[encoded data removed]",
      "text/plain": [
       "<Figure size 640x480 with 1 Axes>"
      ]
     },
     "metadata": {},
     "output_type": "display_data"
    }
   ],
   "source": [
    "print(df.groupby(\"marital\")[\"subscribe\"].mean())\n",
    "#compared with subscribe vs marital\n",
    "df.groupby(\"marital\")[\"subscribe\"].mean().sort_values().plot()"
   ]
  },
  {
   "cell_type": "markdown",
   "metadata": {},
   "source": [
    "#### The above graph represented that there is a strong relationship between the the Feature variable(marital_status) and Target variable(Subscribe),so,we retain this Feature column to predict the ML Algorithm.\n",
    "\n",
    "#### 2.Based on analysis of marital_status column married are the majority people in the data,but,the percentage of probability to subscribe more for the Insurance is singles"
   ]
  },
  {
   "cell_type": "code",
   "execution_count": 343,
   "metadata": {},
   "outputs": [],
   "source": [
    "df[\"marital\"]=df[\"marital\"].map({\"single\":3,\"divorced\":2,\"married\":1})"
   ]
  },
  {
   "cell_type": "markdown",
   "metadata": {},
   "source": [
    "### Education_qualification"
   ]
  },
  {
   "cell_type": "code",
   "execution_count": 344,
   "metadata": {},
   "outputs": [
    {
     "data": {
      "text/plain": [
       "array(['tertiary', 'secondary', 'unknown', 'primary'], dtype=object)"
      ]
     },
     "execution_count": 344,
     "metadata": {},
     "output_type": "execute_result"
    }
   ],
   "source": [
    "df.education_qual.unique()"
   ]
  },
  {
   "cell_type": "code",
   "execution_count": 345,
   "metadata": {},
   "outputs": [
    {
     "data": {
      "text/plain": [
       "education_qual\n",
       "secondary    23128\n",
       "tertiary     13260\n",
       "primary       6799\n",
       "unknown       1730\n",
       "Name: count, dtype: int64"
      ]
     },
     "execution_count": 345,
     "metadata": {},
     "output_type": "execute_result"
    }
   ],
   "source": [
    "df.education_qual.value_counts()"
   ]
  },
  {
   "cell_type": "code",
   "execution_count": 346,
   "metadata": {},
   "outputs": [
    {
     "data": {
      "text/plain": [
       "3.8270102864727353"
      ]
     },
     "execution_count": 346,
     "metadata": {},
     "output_type": "execute_result"
    }
   ],
   "source": [
    "#Handling unknown in Education_qual column\n",
    "pert_of_unknow = (1730/45205)\n",
    "pert_of_unknow*100"
   ]
  },
  {
   "cell_type": "markdown",
   "metadata": {},
   "source": [
    "#### 3.82% of unknown data values can affect the prediction,so,we retain that row in the Education_qual column,considering that for Prediction"
   ]
  },
  {
   "cell_type": "code",
   "execution_count": 347,
   "metadata": {},
   "outputs": [
    {
     "name": "stdout",
     "output_type": "stream",
     "text": [
      "education_qual\n",
      "primary      0.086483\n",
      "secondary    0.105543\n",
      "tertiary     0.150226\n",
      "unknown      0.135260\n",
      "Name: subscribe, dtype: float64\n"
     ]
    },
    {
     "data": {
      "text/plain": [
       "<Axes: xlabel='education_qual'>"
      ]
     },
     "execution_count": 347,
     "metadata": {},
     "output_type": "execute_result"
    },
    {
     "data": {
      "image/png": "[encoded data removed]",
      "text/plain": [
       "<Figure size 640x480 with 1 Axes>"
      ]
     },
     "metadata": {},
     "output_type": "display_data"
    }
   ],
   "source": [
    "print(df.groupby(\"education_qual\")[\"subscribe\"].mean())\n",
    "#compared with subscribe vs education_qual\n",
    "df.groupby(\"education_qual\")[\"subscribe\"].mean().sort_values().plot()"
   ]
  },
  {
   "cell_type": "markdown",
   "metadata": {},
   "source": [
    "#### The above graph represented that there is a strong relationship between the the Feature variable(education_qualification) and Target variable(Subscribe),so,we retain this Feature column to predict the ML Algorithm.\n",
    "\n",
    "#### 2.Based on analysis of education_qualification column secondary are the majority people in the data,but,the percentage of probability to subscribe more for the Insurance is tertiary"
   ]
  },
  {
   "cell_type": "code",
   "execution_count": 348,
   "metadata": {},
   "outputs": [],
   "source": [
    "df[\"education_qual\"]=df[\"education_qual\"].map({\"tertiary\":4,\"unknown\":3,\"secondary\":2,\"primary\":1})"
   ]
  },
  {
   "cell_type": "markdown",
   "metadata": {},
   "source": [
    "### Call_type"
   ]
  },
  {
   "cell_type": "code",
   "execution_count": 349,
   "metadata": {},
   "outputs": [
    {
     "data": {
      "text/plain": [
       "array(['unknown', 'cellular', 'telephone'], dtype=object)"
      ]
     },
     "execution_count": 349,
     "metadata": {},
     "output_type": "execute_result"
    }
   ],
   "source": [
    "df.call_type.unique()"
   ]
  },
  {
   "cell_type": "code",
   "execution_count": 350,
   "metadata": {},
   "outputs": [
    {
     "data": {
      "text/plain": [
       "call_type\n",
       "cellular     29151\n",
       "unknown      12906\n",
       "telephone     2860\n",
       "Name: count, dtype: int64"
      ]
     },
     "execution_count": 350,
     "metadata": {},
     "output_type": "execute_result"
    }
   ],
   "source": [
    "df.call_type.value_counts()"
   ]
  },
  {
   "cell_type": "code",
   "execution_count": 351,
   "metadata": {},
   "outputs": [
    {
     "data": {
      "text/plain": [
       "6.326733768388452"
      ]
     },
     "execution_count": 351,
     "metadata": {},
     "output_type": "execute_result"
    }
   ],
   "source": [
    "#Handling unknown in call_type column\n",
    "pert_of_unknow = (2860/45205)\n",
    "pert_of_unknow*100"
   ]
  },
  {
   "cell_type": "markdown",
   "metadata": {},
   "source": [
    "#### 6.32% of unknown data values can affect the prediction,so,we retain that row in the call_type column,considering that for Prediction"
   ]
  },
  {
   "cell_type": "code",
   "execution_count": 352,
   "metadata": {},
   "outputs": [
    {
     "name": "stdout",
     "output_type": "stream",
     "text": [
      "call_type\n",
      "cellular     0.148949\n",
      "telephone    0.134615\n",
      "unknown      0.040911\n",
      "Name: subscribe, dtype: float64\n"
     ]
    },
    {
     "data": {
      "text/plain": [
       "<Axes: xlabel='call_type'>"
      ]
     },
     "execution_count": 352,
     "metadata": {},
     "output_type": "execute_result"
    },
    {
     "data": {
      "image/png": "[encoded data removed]",
      "text/plain": [
       "<Figure size 640x480 with 1 Axes>"
      ]
     },
     "metadata": {},
     "output_type": "display_data"
    }
   ],
   "source": [
    "print(df.groupby(\"call_type\")[\"subscribe\"].mean())\n",
    "#compared with subscribe vs call_type\n",
    "df.groupby(\"call_type\")[\"subscribe\"].mean().sort_values().plot()"
   ]
  },
  {
   "cell_type": "markdown",
   "metadata": {},
   "source": [
    "#### The above graph represented that there is a strong relationship between the the Feature variable(call_type) and Target variable(Subscribe),so,we retain this Feature column to predict the ML Algorithm.\n",
    "\n",
    "#### 2.Based on analysis of call_type column cellular are the majority people in the data,also,the percentage of probability to subscribe more for the Insurance is cellular"
   ]
  },
  {
   "cell_type": "code",
   "execution_count": 353,
   "metadata": {},
   "outputs": [],
   "source": [
    "df[\"call_type\"]=df[\"call_type\"].map({'cellular':3, 'telephone':2,'unknown':1})"
   ]
  },
  {
   "cell_type": "markdown",
   "metadata": {},
   "source": [
    "### Day"
   ]
  },
  {
   "cell_type": "code",
   "execution_count": 354,
   "metadata": {},
   "outputs": [
    {
     "name": "stdout",
     "output_type": "stream",
     "text": [
      "subscribe\n",
      "0    15.901190\n",
      "1    15.158896\n",
      "Name: day, dtype: float64\n"
     ]
    },
    {
     "data": {
      "text/plain": [
       "<Axes: xlabel='subscribe'>"
      ]
     },
     "execution_count": 354,
     "metadata": {},
     "output_type": "execute_result"
    },
    {
     "data": {
      "image/png": "[encoded data removed]",
      "text/plain": [
       "<Figure size 640x480 with 1 Axes>"
      ]
     },
     "metadata": {},
     "output_type": "display_data"
    }
   ],
   "source": [
    "print(df.groupby(\"subscribe\")[\"day\"].mean())\n",
    "#compared with subscribe vs day\n",
    "(df.groupby(\"subscribe\")[\"day\"].mean()).sort_values().plot()"
   ]
  },
  {
   "cell_type": "markdown",
   "metadata": {},
   "source": [
    "#### The above graph represented that there is a strong relationship between the the Feature variable(day) and Target variable(Subscribe),so,we retain this Feature column to predict the ML Algorithm.\n",
    "\n",
    "#### 2.Based on analysis of day column ,the percentage of probability to subscribe more for the Insurance is after 15th"
   ]
  },
  {
   "cell_type": "markdown",
   "metadata": {},
   "source": [
    "### Month"
   ]
  },
  {
   "cell_type": "code",
   "execution_count": 355,
   "metadata": {},
   "outputs": [
    {
     "data": {
      "text/plain": [
       "array(['may', 'jun', 'jul', 'aug', 'oct', 'nov', 'dec', 'jan', 'feb',\n",
       "       'mar', 'apr', 'sep'], dtype=object)"
      ]
     },
     "execution_count": 355,
     "metadata": {},
     "output_type": "execute_result"
    }
   ],
   "source": [
    "df.mon.unique()"
   ]
  },
  {
   "cell_type": "code",
   "execution_count": 356,
   "metadata": {},
   "outputs": [
    {
     "data": {
      "text/plain": [
       "mon\n",
       "may    13734\n",
       "jul     6863\n",
       "aug     6182\n",
       "jun     5249\n",
       "nov     3956\n",
       "apr     2925\n",
       "feb     2636\n",
       "jan     1388\n",
       "oct      727\n",
       "sep      570\n",
       "mar      474\n",
       "dec      213\n",
       "Name: count, dtype: int64"
      ]
     },
     "execution_count": 356,
     "metadata": {},
     "output_type": "execute_result"
    }
   ],
   "source": [
    "df.mon.value_counts()"
   ]
  },
  {
   "cell_type": "code",
   "execution_count": 357,
   "metadata": {},
   "outputs": [
    {
     "name": "stdout",
     "output_type": "stream",
     "text": [
      "mon\n",
      "may    0.067133\n",
      "jul    0.091214\n",
      "jan    0.100144\n",
      "nov    0.101365\n",
      "jun    0.103829\n",
      "aug    0.110482\n",
      "feb    0.165781\n",
      "apr    0.195214\n",
      "oct    0.437414\n",
      "sep    0.466667\n",
      "dec    0.469484\n",
      "mar    0.521097\n",
      "Name: subscribe, dtype: float64\n"
     ]
    },
    {
     "data": {
      "text/plain": [
       "<Axes: xlabel='mon'>"
      ]
     },
     "execution_count": 357,
     "metadata": {},
     "output_type": "execute_result"
    },
    {
     "data": {
      "image/png": "[encoded data removed]",
      "text/plain": [
       "<Figure size 640x480 with 1 Axes>"
      ]
     },
     "metadata": {},
     "output_type": "display_data"
    }
   ],
   "source": [
    "print(df.groupby(\"mon\")[\"subscribe\"].mean().sort_values())\n",
    "#compared with subscribe vs month\n",
    "df.groupby(\"mon\")[\"subscribe\"].mean().sort_values().plot()"
   ]
  },
  {
   "cell_type": "markdown",
   "metadata": {},
   "source": [
    "#### The above graph represented that there is a strong relationship between the the Feature variable(month) and Target variable(Subscribe),so,we retain this Feature column to predict the ML Algorithm.\n",
    "\n",
    "#### 2.Based on analysis of month column may are the majority people in the data,but,the percentage of probability to subscribe more for the Insurance is march"
   ]
  },
  {
   "cell_type": "code",
   "execution_count": 358,
   "metadata": {},
   "outputs": [],
   "source": [
    "df[\"mon\"]=df[\"mon\"].map({'may':1, 'jun':5, 'jul':2, 'aug':6, 'oct':9, 'nov':4, 'dec':11, 'jan':3, 'feb':7,\n",
    "       'mar':12, 'apr':8, 'sep':10})"
   ]
  },
  {
   "cell_type": "markdown",
   "metadata": {},
   "source": [
    "### dur"
   ]
  },
  {
   "cell_type": "code",
   "execution_count": 359,
   "metadata": {},
   "outputs": [
    {
     "name": "stdout",
     "output_type": "stream",
     "text": [
      "subscribe\n",
      "0    209.901039\n",
      "1    424.749001\n",
      "Name: dur, dtype: float64\n"
     ]
    },
    {
     "data": {
      "text/plain": [
       "<Axes: xlabel='subscribe'>"
      ]
     },
     "execution_count": 359,
     "metadata": {},
     "output_type": "execute_result"
    },
    {
     "data": {
      "image/png": "[encoded data removed]",
      "text/plain": [
       "<Figure size 640x480 with 1 Axes>"
      ]
     },
     "metadata": {},
     "output_type": "display_data"
    }
   ],
   "source": [
    "print(df.groupby(\"subscribe\")[\"dur\"].mean())\n",
    "#compared with subscribe vs dur\n",
    "df.groupby(\"subscribe\")[\"dur\"].mean().sort_values().plot()"
   ]
  },
  {
   "cell_type": "markdown",
   "metadata": {},
   "source": [
    "#### The above graph represented that there is a strong relationship between the the Feature variable(duration) and Target variable(Subscribe),so,we retain this Feature column to predict the ML Algorithm.\n",
    "\n",
    "#### 2.Based on analysis of duration column between(209 to 424 sec) are the majority people can have the possibilities to subscribe more for the Insurance"
   ]
  },
  {
   "cell_type": "markdown",
   "metadata": {},
   "source": [
    "### num_calls"
   ]
  },
  {
   "cell_type": "code",
   "execution_count": 360,
   "metadata": {},
   "outputs": [
    {
     "name": "stdout",
     "output_type": "stream",
     "text": [
      "subscribe\n",
      "0    2.439085\n",
      "1    2.024167\n",
      "Name: num_calls, dtype: float64\n"
     ]
    },
    {
     "data": {
      "text/plain": [
       "<Axes: xlabel='subscribe'>"
      ]
     },
     "execution_count": 360,
     "metadata": {},
     "output_type": "execute_result"
    },
    {
     "data": {
      "image/png": "[encoded data removed]",
      "text/plain": [
       "<Figure size 640x480 with 1 Axes>"
      ]
     },
     "metadata": {},
     "output_type": "display_data"
    }
   ],
   "source": [
    "print(df.groupby(\"subscribe\")[\"num_calls\"].mean())\n",
    "#compared with subscribe vs num_calls\n",
    "df.groupby(\"subscribe\")[\"num_calls\"].mean().sort_values().plot()"
   ]
  },
  {
   "cell_type": "markdown",
   "metadata": {},
   "source": [
    "#### The above graph represented that there is a strong relationship between the the Feature variable(num_calls) and Target variable(Subscribe),so,we retain this Feature column to predict the ML Algorithm.\n",
    "\n",
    "#### 2.Based on analysis of num_calls column maximum 2 calls are possibilities to subscribe more for the Insurance"
   ]
  },
  {
   "cell_type": "markdown",
   "metadata": {},
   "source": [
    "### prev_outcome"
   ]
  },
  {
   "cell_type": "code",
   "execution_count": 361,
   "metadata": {},
   "outputs": [
    {
     "data": {
      "text/plain": [
       "array(['unknown', 'failure', 'other', 'success'], dtype=object)"
      ]
     },
     "execution_count": 361,
     "metadata": {},
     "output_type": "execute_result"
    }
   ],
   "source": [
    "df.prev_outcome.unique()"
   ]
  },
  {
   "cell_type": "code",
   "execution_count": 362,
   "metadata": {},
   "outputs": [
    {
     "data": {
      "text/plain": [
       "prev_outcome\n",
       "unknown    36698\n",
       "failure     4881\n",
       "other       1838\n",
       "success     1500\n",
       "Name: count, dtype: int64"
      ]
     },
     "execution_count": 362,
     "metadata": {},
     "output_type": "execute_result"
    }
   ],
   "source": [
    "df.prev_outcome.value_counts()"
   ]
  },
  {
   "cell_type": "code",
   "execution_count": 363,
   "metadata": {},
   "outputs": [
    {
     "name": "stdout",
     "output_type": "stream",
     "text": [
      "prev_outcome\n",
      "unknown    0.091776\n",
      "failure    0.125384\n",
      "other      0.166485\n",
      "success    0.646000\n",
      "Name: subscribe, dtype: float64\n"
     ]
    },
    {
     "data": {
      "text/plain": [
       "<Axes: xlabel='prev_outcome'>"
      ]
     },
     "execution_count": 363,
     "metadata": {},
     "output_type": "execute_result"
    },
    {
     "data": {
      "image/png": "[encoded data removed]",
      "text/plain": [
       "<Figure size 640x480 with 1 Axes>"
      ]
     },
     "metadata": {},
     "output_type": "display_data"
    }
   ],
   "source": [
    "print(df.groupby(\"prev_outcome\")[\"subscribe\"].mean().sort_values())\n",
    "#compared with subscribe vs prev_outcome\n",
    "df.groupby(\"prev_outcome\")[\"subscribe\"].mean().sort_values().plot()"
   ]
  },
  {
   "cell_type": "markdown",
   "metadata": {},
   "source": [
    "#### 1.The above graph represented that there is a strong relationship between the the Feature variable(prev_outcome) and Target variable(Subscribe),so,we retain this Feature column to predict the ML Algorithm.\n",
    "\n",
    "#### 2.Based on analysis of prev_outcome column unknown are the majority people in the data,but,the percentage of probability to subscribe more for the Insurance is success"
   ]
  },
  {
   "cell_type": "code",
   "execution_count": 364,
   "metadata": {},
   "outputs": [],
   "source": [
    "df[\"prev_outcome\"]=df[\"prev_outcome\"].map({'unknown':1, 'failure':2, 'other':3, 'success':4})"
   ]
  },
  {
   "cell_type": "code",
   "execution_count": 365,
   "metadata": {},
   "outputs": [
    {
     "data": {
      "text/html": [
       "<div>\n",
       "<style scoped>\n",
       "    .dataframe tbody tr th:only-of-type {\n",
       "        vertical-align: middle;\n",
       "    }\n",
       "\n",
       "    .dataframe tbody tr th {\n",
       "        vertical-align: top;\n",
       "    }\n",
       "\n",
       "    .dataframe thead th {\n",
       "        text-align: right;\n",
       "    }\n",
       "</style>\n",
       "<table border=\"1\" class=\"dataframe\">\n",
       "  <thead>\n",
       "    <tr style=\"text-align: right;\">\n",
       "      <th></th>\n",
       "      <th>age</th>\n",
       "      <th>job</th>\n",
       "      <th>marital</th>\n",
       "      <th>education_qual</th>\n",
       "      <th>call_type</th>\n",
       "      <th>day</th>\n",
       "      <th>mon</th>\n",
       "      <th>dur</th>\n",
       "      <th>num_calls</th>\n",
       "      <th>prev_outcome</th>\n",
       "      <th>subscribe</th>\n",
       "    </tr>\n",
       "  </thead>\n",
       "  <tbody>\n",
       "    <tr>\n",
       "      <th>0</th>\n",
       "      <td>58.0</td>\n",
       "      <td>8</td>\n",
       "      <td>1</td>\n",
       "      <td>4</td>\n",
       "      <td>1</td>\n",
       "      <td>5</td>\n",
       "      <td>1</td>\n",
       "      <td>261</td>\n",
       "      <td>1</td>\n",
       "      <td>1</td>\n",
       "      <td>0</td>\n",
       "    </tr>\n",
       "    <tr>\n",
       "      <th>1</th>\n",
       "      <td>44.0</td>\n",
       "      <td>5</td>\n",
       "      <td>3</td>\n",
       "      <td>2</td>\n",
       "      <td>1</td>\n",
       "      <td>5</td>\n",
       "      <td>1</td>\n",
       "      <td>151</td>\n",
       "      <td>1</td>\n",
       "      <td>1</td>\n",
       "      <td>0</td>\n",
       "    </tr>\n",
       "    <tr>\n",
       "      <th>2</th>\n",
       "      <td>33.0</td>\n",
       "      <td>2</td>\n",
       "      <td>1</td>\n",
       "      <td>2</td>\n",
       "      <td>1</td>\n",
       "      <td>5</td>\n",
       "      <td>1</td>\n",
       "      <td>76</td>\n",
       "      <td>1</td>\n",
       "      <td>1</td>\n",
       "      <td>0</td>\n",
       "    </tr>\n",
       "    <tr>\n",
       "      <th>3</th>\n",
       "      <td>47.0</td>\n",
       "      <td>1</td>\n",
       "      <td>1</td>\n",
       "      <td>3</td>\n",
       "      <td>1</td>\n",
       "      <td>5</td>\n",
       "      <td>1</td>\n",
       "      <td>92</td>\n",
       "      <td>1</td>\n",
       "      <td>1</td>\n",
       "      <td>0</td>\n",
       "    </tr>\n",
       "    <tr>\n",
       "      <th>5</th>\n",
       "      <td>35.0</td>\n",
       "      <td>8</td>\n",
       "      <td>1</td>\n",
       "      <td>4</td>\n",
       "      <td>1</td>\n",
       "      <td>5</td>\n",
       "      <td>1</td>\n",
       "      <td>139</td>\n",
       "      <td>1</td>\n",
       "      <td>1</td>\n",
       "      <td>0</td>\n",
       "    </tr>\n",
       "  </tbody>\n",
       "</table>\n",
       "</div>"
      ],
      "text/plain": [
       "    age  job  marital  education_qual  call_type  day  mon  dur  num_calls  \\\n",
       "0  58.0    8        1               4          1    5    1  261          1   \n",
       "1  44.0    5        3               2          1    5    1  151          1   \n",
       "2  33.0    2        1               2          1    5    1   76          1   \n",
       "3  47.0    1        1               3          1    5    1   92          1   \n",
       "5  35.0    8        1               4          1    5    1  139          1   \n",
       "\n",
       "   prev_outcome  subscribe  \n",
       "0             1          0  \n",
       "1             1          0  \n",
       "2             1          0  \n",
       "3             1          0  \n",
       "5             1          0  "
      ]
     },
     "execution_count": 365,
     "metadata": {},
     "output_type": "execute_result"
    }
   ],
   "source": [
    "df.head(5)"
   ]
  },
  {
   "cell_type": "markdown",
   "metadata": {},
   "source": [
    "### Spliting the dataset"
   ]
  },
  {
   "cell_type": "code",
   "execution_count": 366,
   "metadata": {},
   "outputs": [],
   "source": [
    "from sklearn.model_selection import train_test_split\n",
    "\n",
    "X=df.drop(columns=[\"subscribe\"])\n",
    "y=df[\"subscribe\"]\n",
    "\n",
    "X_train,X_test,y_train,y_test = train_test_split(X,y,test_size=0.30,random_state=7)"
   ]
  },
  {
   "cell_type": "markdown",
   "metadata": {},
   "source": [
    "### checking for the data is balanced or not"
   ]
  },
  {
   "cell_type": "code",
   "execution_count": 367,
   "metadata": {},
   "outputs": [
    {
     "data": {
      "text/plain": [
       "subscribe\n",
       "0    39662\n",
       "1     5255\n",
       "Name: count, dtype: int64"
      ]
     },
     "execution_count": 367,
     "metadata": {},
     "output_type": "execute_result"
    }
   ],
   "source": [
    "df['subscribe'].value_counts()"
   ]
  },
  {
   "cell_type": "markdown",
   "metadata": {},
   "source": [
    "\n",
    "From the above result we can clearly understand that the dataset is imbalanced. "
   ]
  },
  {
   "cell_type": "markdown",
   "metadata": {},
   "source": [
    " #### Lets find the percentage."
   ]
  },
  {
   "cell_type": "code",
   "execution_count": 368,
   "metadata": {},
   "outputs": [
    {
     "name": "stdout",
     "output_type": "stream",
     "text": [
      "Percentage for \"no\":  88.29996681782988\n",
      "Percentage for \"yes\":  11.700033182170113\n"
     ]
    }
   ],
   "source": [
    "#Finding the percentage of the data\n",
    "print('Percentage for \"no\": ',((39916) / (39916+5289)) * 100 )\n",
    "print('Percentage for \"yes\": ',((5289) / (39916+5289)) * 100 )"
   ]
  },
  {
   "cell_type": "markdown",
   "metadata": {},
   "source": [
    "From the above result we can clearly understand that the percentage for no is very high so the Majority class \"no\" with 88.29% and Minority class \"yes\" with 11.70%."
   ]
  },
  {
   "cell_type": "markdown",
   "metadata": {},
   "source": [
    "### Balancing the Train Data"
   ]
  },
  {
   "cell_type": "markdown",
   "metadata": {},
   "source": [
    "##### Using Smote+ENN(oversampling+UnderSampling)"
   ]
  },
  {
   "cell_type": "code",
   "execution_count": 369,
   "metadata": {},
   "outputs": [],
   "source": [
    "#Balancing the data\n",
    "from imblearn.combine import SMOTEENN\n",
    "\n",
    "cc = SMOTEENN(random_state=7)\n",
    "\n",
    "X_train_smoteenn, y_train_smoteenn = cc.fit_resample(X_train, y_train)"
   ]
  },
  {
   "cell_type": "code",
   "execution_count": 370,
   "metadata": {},
   "outputs": [
    {
     "name": "stdout",
     "output_type": "stream",
     "text": [
      "47506\n",
      "47506\n"
     ]
    }
   ],
   "source": [
    "print(len(X_train_smoteenn))\n",
    "print(len(y_train_smoteenn))"
   ]
  },
  {
   "cell_type": "markdown",
   "metadata": {},
   "source": [
    "### Scaling"
   ]
  },
  {
   "cell_type": "code",
   "execution_count": 371,
   "metadata": {},
   "outputs": [],
   "source": [
    "#scaling the data\n",
    "from sklearn.preprocessing import StandardScaler\n",
    "scaler = StandardScaler()\n",
    "X_train_scaled = scaler.fit_transform(X_train_smoteenn)\n",
    "X_test_scaled = scaler.transform(X_test)"
   ]
  },
  {
   "cell_type": "markdown",
   "metadata": {},
   "source": [
    "### Model Fiting"
   ]
  },
  {
   "cell_type": "markdown",
   "metadata": {},
   "source": [
    "#### Logistic Regression"
   ]
  },
  {
   "cell_type": "code",
   "execution_count": 372,
   "metadata": {},
   "outputs": [
    {
     "name": "stdout",
     "output_type": "stream",
     "text": [
      "Test data accuracy : 0.7513357079252003, F1-Score: 0.45182398167839033\n"
     ]
    }
   ],
   "source": [
    "from sklearn.linear_model import LogisticRegression\n",
    "from sklearn.metrics import f1_score\n",
    "\n",
    "model = LogisticRegression()\n",
    "model.fit(X_train_scaled,y_train_smoteenn)\n",
    "print(f\"Test data accuracy : {model.score(X_test_scaled, y_test)}, F1-Score: {f1_score(model.predict(X_test_scaled), y_test)}\")"
   ]
  },
  {
   "cell_type": "markdown",
   "metadata": {},
   "source": [
    "### Decision Tree Classifier"
   ]
  },
  {
   "cell_type": "code",
   "execution_count": 373,
   "metadata": {},
   "outputs": [
    {
     "name": "stdout",
     "output_type": "stream",
     "text": [
      "Depth-1,Train_score-0.6325319085782131,Cross_val-0.7834587865158581\n",
      "Depth-2,Train_score-0.5741317898486198,Cross_val-0.8010566595398199\n",
      "Depth-3,Train_score-0.6607301869991096,Cross_val-0.8556602864770853\n",
      "Depth-4,Train_score-0.675348768180469,Cross_val-0.8636801914278432\n",
      "Depth-5,Train_score-0.7032502226179875,Cross_val-0.876310330235186\n",
      "Depth-6,Train_score-0.6996141288216088,Cross_val-0.882162168629319\n",
      "Depth-7,Train_score-0.7665479370733155,Cross_val-0.8990864283419556\n",
      "Depth-8,Train_score-0.7940783615316117,Cross_val-0.9090641305431543\n",
      "Depth-9,Train_score-0.792668447610567,Cross_val-0.9161368487520634\n",
      "Depth-10,Train_score-0.7871772039180766,Cross_val-0.9209996255635933\n",
      "Depth-11,Train_score-0.7967497773820125,Cross_val-0.9260515836001286\n",
      "Depth-12,Train_score-0.802760463045414,Cross_val-0.9303037543342677\n",
      "Depth-13,Train_score-0.8125556544968834,Cross_val-0.9365555927284006\n",
      "Depth-14,Train_score-0.8193084001187296,Cross_val-0.9397552825443951\n",
      "Depth-15,Train_score-0.8286583555951321,Cross_val-0.9423022964694413\n",
      "Depth-16,Train_score-0.8314039774413773,Cross_val-0.9441547375067852\n",
      "Depth-17,Train_score-0.8331849213416445,Cross_val-0.9456071519569287\n",
      "Depth-18,Train_score-0.832962303354111,Cross_val-0.9466596638934741\n",
      "Depth-19,Train_score-0.8340753932917779,Cross_val-0.9483436484285857\n",
      "Depth-20,Train_score-0.8293262095577323,Cross_val-0.948764678904164\n",
      "Depth-21,Train_score-0.832146037399822,Cross_val-0.948933055644795\n",
      "Depth-22,Train_score-0.832146037399822,Cross_val-0.9492698800252578\n",
      "Depth-23,Train_score-0.832962303354111,Cross_val-0.9499856074621411\n",
      "Depth-24,Train_score-0.8301424755120214,Cross_val-0.9492277924869004\n",
      "Depth-25,Train_score-0.8319234194122885,Cross_val-0.9501328916903921\n",
      "Depth-26,Train_score-0.8341495992876224,Cross_val-0.9497751520455526\n",
      "Depth-27,Train_score-0.829771445532799,Cross_val-0.9498172262903101\n",
      "Depth-28,Train_score-0.8316265954289107,Cross_val-0.9495225514850061\n",
      "Depth-29,Train_score-0.8328880973582665,Cross_val-0.9495646478857637\n",
      "Depth-30,Train_score-0.8314781834372217,Cross_val-0.950259269516667\n"
     ]
    }
   ],
   "source": [
    "from sklearn.tree import DecisionTreeClassifier\n",
    "from sklearn.model_selection import cross_val_score\n",
    "\n",
    "for depth in [1,2,3,4,5,6,7,8,9,10,11,12,13,14,15,16,17,18,19,20,21,22,23,24,25,26,27,28,29,30]:\n",
    "  model = DecisionTreeClassifier(max_depth = depth)\n",
    "  model.fit(X_train_scaled,y_train_smoteenn)\n",
    "  train_score = model.score(X_test_scaled,y_test)\n",
    "  cross_val=np.mean(cross_val_score(model,X_train_scaled,y_train_smoteenn,cv=10))\n",
    "  print(f\"Depth-{depth},Train_score-{train_score},Cross_val-{cross_val}\")"
   ]
  },
  {
   "cell_type": "code",
   "execution_count": 374,
   "metadata": {},
   "outputs": [
    {
     "name": "stdout",
     "output_type": "stream",
     "text": [
      "Test data accuracy : 0.8325170673790442, F1-Score: 0.5178380687887204\n"
     ]
    }
   ],
   "source": [
    "model = DecisionTreeClassifier(max_depth = 29)\n",
    "model.fit(X_train_scaled,y_train_smoteenn)\n",
    "print(f\"Test data accuracy : {model.score(X_test_scaled, y_test)}, F1-Score: {f1_score(model.predict(X_test_scaled), y_test)}\")"
   ]
  },
  {
   "cell_type": "markdown",
   "metadata": {},
   "source": [
    "### Random Forest Classifier"
   ]
  },
  {
   "cell_type": "code",
   "execution_count": 375,
   "metadata": {},
   "outputs": [
    {
     "name": "stdout",
     "output_type": "stream",
     "text": [
      "N: 10, Cross-Val Score: 0.9642361652394509\n",
      "N: 20, Cross-Val Score: 0.9672463237656338\n",
      "N: 50, Cross-Val Score: 0.9679829797604936\n"
     ]
    }
   ],
   "source": [
    "from sklearn.ensemble import RandomForestClassifier\n",
    "\n",
    "model = RandomForestClassifier(max_depth = 29, max_features = \"sqrt\")\n",
    "\n",
    "for n in [10, 20, 50]:\n",
    "  model = RandomForestClassifier(n_estimators = n, max_depth =  29, max_features = \"sqrt\")\n",
    "  cross_score = np.mean(cross_val_score(model,X_train_scaled,y_train_smoteenn, cv = 10))\n",
    "  print(f\"N: {n}, Cross-Val Score: {cross_score}\")"
   ]
  },
  {
   "cell_type": "code",
   "execution_count": 376,
   "metadata": {},
   "outputs": [
    {
     "name": "stdout",
     "output_type": "stream",
     "text": [
      "Test data accuracy : 0.8420154348471357, F1-Score: 0.5600330646827857\n"
     ]
    }
   ],
   "source": [
    "model = RandomForestClassifier(n_estimators = 50, max_depth = 29, max_features = \"sqrt\")\n",
    "model.fit(X_train_scaled,y_train_smoteenn)\n",
    "print(f\"Test data accuracy : {model.score(X_test_scaled, y_test)}, F1-Score: {f1_score(model.predict(X_test_scaled), y_test)}\")"
   ]
  },
  {
   "cell_type": "markdown",
   "metadata": {},
   "source": [
    "### XG Booster Classifier"
   ]
  },
  {
   "cell_type": "code",
   "execution_count": 377,
   "metadata": {},
   "outputs": [
    {
     "name": "stdout",
     "output_type": "stream",
     "text": [
      "Lambda: 0.1, Cross-Val Score: 0.950385381470937\n",
      "Lambda: 0.2, Cross-Val Score: 0.9618788465586192\n",
      "Lambda: 0.3, Cross-Val Score: 0.9654153829110769\n",
      "Lambda: 0.4, Cross-Val Score: 0.9681729453079131\n",
      "Lambda: 0.5, Cross-Val Score: 0.9689939624898912\n",
      "Lambda: 0.6, Cross-Val Score: 0.9694992522349866\n",
      "Lambda: 0.7, Cross-Val Score: 0.9700674207092137\n",
      "Lambda: 0.8, Cross-Val Score: 0.9700675181956153\n",
      "Lambda: 0.9, Cross-Val Score: 0.970256885531024\n",
      "Lambda: 1, Cross-Val Score: 0.9697096190275731\n"
     ]
    }
   ],
   "source": [
    "from xgboost import XGBClassifier\n",
    "\n",
    "for lamb in [0.1, 0.2,0.3,0.4, 0.5,0.6,0.7,0.8,0.9, 1]:\n",
    "  model = XGBClassifier(learning_rate = lamb)\n",
    "  cross_score = np.mean(cross_val_score(model, X_train_scaled,y_train_smoteenn, cv = 10))\n",
    "  print(f\"Lambda: {lamb}, Cross-Val Score: {cross_score}\")"
   ]
  },
  {
   "cell_type": "code",
   "execution_count": 378,
   "metadata": {},
   "outputs": [
    {
     "name": "stdout",
     "output_type": "stream",
     "text": [
      "Test data accuracy : 0.8584149599287623, F1-Score: 0.5671506352087115\n"
     ]
    }
   ],
   "source": [
    "model = XGBClassifier(learning_rate = 0.9)\n",
    "model.fit(X_train_scaled,y_train_smoteenn)\n",
    "print(f\"Test data accuracy : {model.score(X_test_scaled, y_test)}, F1-Score: {f1_score(model.predict(X_test_scaled), y_test)}\")"
   ]
  },
  {
   "cell_type": "markdown",
   "metadata": {},
   "source": [
    "### Overall Result"
   ]
  },
  {
   "cell_type": "markdown",
   "metadata": {},
   "source": [
    "##### Logistic Regression:\n",
    "Test data accuracy : 0.7513357079252003, F1-Score: 0.45182398167839033\n",
    "##### Decision tree classification:\n",
    "Test data accuracy : 0.8325170673790442, F1-Score: 0.5178380687887204\n",
    "##### Random forest classification:\n",
    "Test data accuracy : 0.8420154348471357, F1-Score: 0.5600330646827857\n",
    "##### Xg booster classification:\n",
    "Test data accuracy : 0.8584149599287623, F1-Score: 0.5671506352087115\n"
   ]
  },
  {
   "cell_type": "markdown",
   "metadata": {},
   "source": [
    "### Based on the Evaluation XGbooster has a more f1_score,it has a better model to predict a Target variable(subscribe)"
   ]
  },
  {
   "cell_type": "markdown",
   "metadata": {},
   "source": [
    "#### Important features"
   ]
  },
  {
   "cell_type": "code",
   "execution_count": 427,
   "metadata": {},
   "outputs": [
    {
     "data": {
      "image/png": "[encoded data removed]",
      "text/plain": [
       "<Figure size 640x480 with 1 Axes>"
      ]
     },
     "metadata": {},
     "output_type": "display_data"
    }
   ],
   "source": [
    "from xgboost import plot_importance\n",
    "\n",
    "# plot feature importance\n",
    "plot_importance(model)\n",
    "plt.show()  "
   ]
  },
  {
   "cell_type": "markdown",
   "metadata": {},
   "source": [
    "f0-'age',f1- 'job',f2- 'marital', f3-'education_qual',f4- 'call_type',f5- 'day', f6-'mon',f7-'dur', f8-'num_calls', f9-'prev_outcome', f10-'subscribe'"
   ]
  },
  {
   "cell_type": "code",
   "execution_count": 428,
   "metadata": {},
   "outputs": [
    {
     "data": {
      "text/plain": [
       "Index(['age', 'job', 'marital', 'education_qual', 'call_type', 'day', 'mon',\n",
       "       'dur', 'num_calls', 'prev_outcome', 'subscribe'],\n",
       "      dtype='object')"
      ]
     },
     "execution_count": 428,
     "metadata": {},
     "output_type": "execute_result"
    }
   ],
   "source": [
    "df.columns"
   ]
  },
  {
   "cell_type": "markdown",
   "metadata": {},
   "source": [
    "#### Conclusion:\n",
    "Based on the Feature Importance given by best machine Learning that will predict if a client subscribed to the insurance.\n",
    "\n",
    "The client should focused on the top few features of order given below to have them subscribed to the insurance.\n",
    "\n",
    "##### Duration - Longer the call better influncing the clients\n",
    "##### Age - Age of the person plays an important role in insurance. Middle age people are targeted more and people who suscribed to insurance also middle age people.(40-41)\n",
    "##### Day - People who subscribed to insurance are mostly mid(after 15th) of the month.\n",
    "##### Month - In the month of march people subscribed to insurance are more.\n",
    "##### Job - In this blue collar people are targeted more but people who subscribed more are from students."
   ]
  },
  {
   "cell_type": "markdown",
   "metadata": {},
   "source": [
    "#### Overall Predicted by Thigazhvan"
   ]
  }
 ],
 "metadata": {
  "kernelspec": {
   "display_name": "Python 3",
   "language": "python",
   "name": "python3"
  },
  "language_info": {
   "codemirror_mode": {
    "name": "ipython",
    "version": 3
   },
   "file_extension": ".py",
   "mimetype": "text/x-python",
   "name": "python",
   "nbconvert_exporter": "python",
   "pygments_lexer": "ipython3",
   "version": "3.12.1"
  }
 },
 "nbformat": 4,
 "nbformat_minor": 2
}
